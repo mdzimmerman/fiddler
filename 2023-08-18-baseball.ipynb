{
 "cells": [
  {
   "cell_type": "code",
   "execution_count": 71,
   "metadata": {},
   "outputs": [],
   "source": [
    "from collections import Counter\n",
    "import random\n",
    "import logging\n",
    "\n",
    "import seaborn as sns\n",
    "import matplotlib.pyplot as plt\n",
    "import numpy as np\n",
    "import pandas as pd"
   ]
  },
  {
   "cell_type": "code",
   "execution_count": 53,
   "metadata": {},
   "outputs": [],
   "source": [
    "class Lineup:\n",
    "    def __init__(self, sluggerpos):\n",
    "        self.sluggerpos = list(sluggerpos)\n",
    "    \n",
    "    def __getitem__(self, key):\n",
    "        if key in self.sluggerpos:\n",
    "            return 'S'\n",
    "        else:\n",
    "            return 'C'"
   ]
  },
  {
   "cell_type": "code",
   "execution_count": 92,
   "metadata": {},
   "outputs": [
    {
     "name": "stderr",
     "output_type": "stream",
     "text": [
      "DEBUG:root:Inning 0\n",
      "DEBUG:root:Contact hitter 0 is up\n",
      "DEBUG:root:hit!\n",
      "DEBUG:root:Contact hitter 1 is up\n",
      "DEBUG:root:out!\n",
      "DEBUG:root:Contact hitter 2 is up\n",
      "DEBUG:root:hit!\n",
      "DEBUG:root:Slugger 3 is up\n",
      "DEBUG:root:home run!\n",
      "DEBUG:root:Contact hitter 4 is up\n",
      "DEBUG:root:out!\n",
      "DEBUG:root:Contact hitter 5 is up\n",
      "DEBUG:root:out!\n",
      "DEBUG:root:Inning 1\n",
      "DEBUG:root:Contact hitter 6 is up\n",
      "DEBUG:root:out!\n",
      "DEBUG:root:Contact hitter 7 is up\n",
      "DEBUG:root:hit!\n",
      "DEBUG:root:Contact hitter 8 is up\n",
      "DEBUG:root:hit!\n",
      "DEBUG:root:Contact hitter 0 is up\n",
      "DEBUG:root:out!\n",
      "DEBUG:root:Contact hitter 1 is up\n",
      "DEBUG:root:out!\n",
      "DEBUG:root:Inning 2\n",
      "DEBUG:root:Contact hitter 2 is up\n",
      "DEBUG:root:hit!\n",
      "DEBUG:root:Slugger 3 is up\n",
      "DEBUG:root:home run!\n",
      "DEBUG:root:Contact hitter 4 is up\n",
      "DEBUG:root:out!\n",
      "DEBUG:root:Contact hitter 5 is up\n",
      "DEBUG:root:hit!\n",
      "DEBUG:root:Contact hitter 6 is up\n",
      "DEBUG:root:out!\n",
      "DEBUG:root:Contact hitter 7 is up\n",
      "DEBUG:root:hit!\n",
      "DEBUG:root:Contact hitter 8 is up\n",
      "DEBUG:root:hit!\n",
      "DEBUG:root:Contact hitter 0 is up\n",
      "DEBUG:root:out!\n",
      "DEBUG:root:Inning 3\n",
      "DEBUG:root:Contact hitter 1 is up\n",
      "DEBUG:root:out!\n",
      "DEBUG:root:Contact hitter 2 is up\n",
      "DEBUG:root:out!\n",
      "DEBUG:root:Slugger 3 is up\n",
      "DEBUG:root:home run!\n",
      "DEBUG:root:Contact hitter 4 is up\n",
      "DEBUG:root:out!\n",
      "DEBUG:root:Inning 4\n",
      "DEBUG:root:Contact hitter 5 is up\n",
      "DEBUG:root:out!\n",
      "DEBUG:root:Contact hitter 6 is up\n",
      "DEBUG:root:out!\n",
      "DEBUG:root:Contact hitter 7 is up\n",
      "DEBUG:root:out!\n",
      "DEBUG:root:Inning 5\n",
      "DEBUG:root:Contact hitter 8 is up\n",
      "DEBUG:root:out!\n",
      "DEBUG:root:Contact hitter 0 is up\n",
      "DEBUG:root:hit!\n",
      "DEBUG:root:Contact hitter 1 is up\n",
      "DEBUG:root:hit!\n",
      "DEBUG:root:Contact hitter 2 is up\n",
      "DEBUG:root:out!\n",
      "DEBUG:root:Slugger 3 is up\n",
      "DEBUG:root:out!\n",
      "DEBUG:root:Inning 6\n",
      "DEBUG:root:Contact hitter 4 is up\n",
      "DEBUG:root:out!\n",
      "DEBUG:root:Contact hitter 5 is up\n",
      "DEBUG:root:out!\n",
      "DEBUG:root:Contact hitter 6 is up\n",
      "DEBUG:root:out!\n",
      "DEBUG:root:Inning 7\n",
      "DEBUG:root:Contact hitter 7 is up\n",
      "DEBUG:root:out!\n",
      "DEBUG:root:Contact hitter 8 is up\n",
      "DEBUG:root:out!\n",
      "DEBUG:root:Contact hitter 0 is up\n",
      "DEBUG:root:hit!\n",
      "DEBUG:root:Contact hitter 1 is up\n",
      "DEBUG:root:hit!\n",
      "DEBUG:root:Contact hitter 2 is up\n",
      "DEBUG:root:hit!\n",
      "DEBUG:root:Slugger 3 is up\n",
      "DEBUG:root:out!\n",
      "DEBUG:root:Inning 8\n",
      "DEBUG:root:Contact hitter 4 is up\n",
      "DEBUG:root:out!\n",
      "DEBUG:root:Contact hitter 5 is up\n",
      "DEBUG:root:out!\n",
      "DEBUG:root:Contact hitter 6 is up\n",
      "DEBUG:root:hit!\n",
      "DEBUG:root:Contact hitter 7 is up\n",
      "DEBUG:root:hit!\n",
      "DEBUG:root:Contact hitter 8 is up\n",
      "DEBUG:root:hit!\n",
      "DEBUG:root:Contact hitter 0 is up\n",
      "DEBUG:root:out!\n"
     ]
    },
    {
     "data": {
      "text/plain": [
       "6"
      ]
     },
     "execution_count": 92,
     "metadata": {},
     "output_type": "execute_result"
    }
   ],
   "source": [
    "def play_n_innings(lineup, n=1):\n",
    "    runs = 0\n",
    "    i = 0\n",
    "    for inning in range(n):\n",
    "        logging.debug(f\"Inning {inning}\")\n",
    "        outs = 0\n",
    "        runners_on_base = 0\n",
    "        while outs < 3:\n",
    "            batter = lineup[i % 9]\n",
    "            if batter == 'C':\n",
    "                logging.debug(f\"Contact hitter {i % 9} is up\")\n",
    "                if random.random() <= (1/3):\n",
    "                    logging.debug(\"hit!\")\n",
    "                    if runners_on_base == 3:\n",
    "                        logging.debug(\"bases loaded, run scores\")\n",
    "                        runs += 1\n",
    "                    else:\n",
    "                        runners_on_base += 1\n",
    "                else:\n",
    "                    logging.debug(\"out!\")\n",
    "                    outs += 1\n",
    "            elif batter == 'S':\n",
    "                logging.debug(f\"Slugger {i % 9} is up\")\n",
    "                if random.random() <= 0.1:\n",
    "                    logging.debug(\"home run!\")\n",
    "                    runs += (runners_on_base + 1)\n",
    "                    runners_on_base = 0\n",
    "                else:\n",
    "                    logging.debug(\"out!\")\n",
    "                    outs += 1\n",
    "            i += 1\n",
    "    return runs\n",
    "\n",
    "logging.getLogger().setLevel(logging.DEBUG)\n",
    "play_n_innings(Lineup([3]), 9)"
   ]
  },
  {
   "cell_type": "code",
   "execution_count": 98,
   "metadata": {},
   "outputs": [
    {
     "data": {
      "text/plain": [
       "Counter({0: 31625,\n",
       "         1: 19868,\n",
       "         5: 4967,\n",
       "         3: 11906,\n",
       "         4: 7737,\n",
       "         7: 1708,\n",
       "         10: 290,\n",
       "         2: 16914,\n",
       "         6: 3044,\n",
       "         9: 594,\n",
       "         8: 1033,\n",
       "         12: 84,\n",
       "         11: 142,\n",
       "         14: 22,\n",
       "         15: 10,\n",
       "         13: 44,\n",
       "         17: 1,\n",
       "         18: 2,\n",
       "         16: 8,\n",
       "         21: 1})"
      ]
     },
     "execution_count": 98,
     "metadata": {},
     "output_type": "execute_result"
    }
   ],
   "source": [
    "logging.getLogger().setLevel(logging.WARNING)\n",
    "\n",
    "def play_n_innings_m_times(lineup, n=1, m=100000):\n",
    "    counter = Counter()\n",
    "    for _ in range(m):\n",
    "        runs = play_n_innings(lineup, n)\n",
    "        counter[runs] += 1\n",
    "    return counter\n",
    "\n",
    "out = play_n_innings_m_times(Lineup([3, 6]), 9)\n",
    "out"
   ]
  },
  {
   "cell_type": "code",
   "execution_count": 99,
   "metadata": {},
   "outputs": [
    {
     "data": {
      "image/png": "[encoded data removed]",
      "text/plain": [
       "<Figure size 432x288 with 1 Axes>"
      ]
     },
     "metadata": {
      "needs_background": "light"
     },
     "output_type": "display_data"
    }
   ],
   "source": [
    "gety = np.vectorize(lambda x: out[x])\n",
    "\n",
    "def plot_output(out):\n",
    "    x = np.arange(max(out.keys())+1)\n",
    "    y = gety(x)\n",
    "    x, y\n",
    "    width = 1\n",
    "    plt.bar(x, y, width)\n",
    "    plt.show()\n",
    "    \n",
    "plot_output(out)"
   ]
  },
  {
   "cell_type": "code",
   "execution_count": 76,
   "metadata": {},
   "outputs": [
    {
     "data": {
      "text/plain": [
       "0.23947"
      ]
     },
     "execution_count": 76,
     "metadata": {},
     "output_type": "execute_result"
    }
   ],
   "source": [
    "def calc_mean(counter):\n",
    "    total_runs = 0\n",
    "    for k in counter.keys():\n",
    "        total_runs += (k * counter[k])\n",
    "    total_games = sum(counter.values())\n",
    "    return total_runs / total_games\n",
    "\n",
    "calc_mean(out)"
   ]
  },
  {
   "cell_type": "code",
   "execution_count": 85,
   "metadata": {},
   "outputs": [
    {
     "name": "stdout",
     "output_type": "stream",
     "text": [
      "0\n",
      "1\n",
      "2\n",
      "3\n",
      "4\n",
      "5\n",
      "6\n",
      "7\n",
      "8\n"
     ]
    }
   ],
   "source": [
    "data={\"sluggerpos\": [], \"mean_runs\": []}\n",
    "for pos in range(9):\n",
    "    print(pos)\n",
    "    mean_runs_counter = play_1_inning_n_times(Lineup([pos]), 500000)\n",
    "    data[\"sluggerpos\"].append(pos)\n",
    "    data[\"mean_runs\"].append(calc_mean(mean_runs_counter))\n",
    "df = pd.DataFrame(data)"
   ]
  },
  {
   "cell_type": "code",
   "execution_count": 86,
   "metadata": {},
   "outputs": [
    {
     "data": {
      "text/html": [
       "<div>\n",
       "<style scoped>\n",
       "    .dataframe tbody tr th:only-of-type {\n",
       "        vertical-align: middle;\n",
       "    }\n",
       "\n",
       "    .dataframe tbody tr th {\n",
       "        vertical-align: top;\n",
       "    }\n",
       "\n",
       "    .dataframe thead th {\n",
       "        text-align: right;\n",
       "    }\n",
       "</style>\n",
       "<table border=\"1\" class=\"dataframe\">\n",
       "  <thead>\n",
       "    <tr style=\"text-align: right;\">\n",
       "      <th></th>\n",
       "      <th>sluggerpos</th>\n",
       "      <th>mean_runs</th>\n",
       "    </tr>\n",
       "  </thead>\n",
       "  <tbody>\n",
       "    <tr>\n",
       "      <th>0</th>\n",
       "      <td>0</td>\n",
       "      <td>0.184254</td>\n",
       "    </tr>\n",
       "    <tr>\n",
       "      <th>1</th>\n",
       "      <td>1</td>\n",
       "      <td>0.211092</td>\n",
       "    </tr>\n",
       "    <tr>\n",
       "      <th>2</th>\n",
       "      <td>2</td>\n",
       "      <td>0.238334</td>\n",
       "    </tr>\n",
       "    <tr>\n",
       "      <th>3</th>\n",
       "      <td>3</td>\n",
       "      <td>0.239666</td>\n",
       "    </tr>\n",
       "    <tr>\n",
       "      <th>4</th>\n",
       "      <td>4</td>\n",
       "      <td>0.203098</td>\n",
       "    </tr>\n",
       "    <tr>\n",
       "      <th>5</th>\n",
       "      <td>5</td>\n",
       "      <td>0.155634</td>\n",
       "    </tr>\n",
       "    <tr>\n",
       "      <th>6</th>\n",
       "      <td>6</td>\n",
       "      <td>0.168878</td>\n",
       "    </tr>\n",
       "    <tr>\n",
       "      <th>7</th>\n",
       "      <td>7</td>\n",
       "      <td>0.175032</td>\n",
       "    </tr>\n",
       "    <tr>\n",
       "      <th>8</th>\n",
       "      <td>8</td>\n",
       "      <td>0.177680</td>\n",
       "    </tr>\n",
       "  </tbody>\n",
       "</table>\n",
       "</div>"
      ],
      "text/plain": [
       "   sluggerpos  mean_runs\n",
       "0           0   0.184254\n",
       "1           1   0.211092\n",
       "2           2   0.238334\n",
       "3           3   0.239666\n",
       "4           4   0.203098\n",
       "5           5   0.155634\n",
       "6           6   0.168878\n",
       "7           7   0.175032\n",
       "8           8   0.177680"
      ]
     },
     "execution_count": 86,
     "metadata": {},
     "output_type": "execute_result"
    }
   ],
   "source": [
    "df"
   ]
  },
  {
   "cell_type": "code",
   "execution_count": 87,
   "metadata": {},
   "outputs": [
    {
     "data": {
      "image/png": "[encoded data removed]",
      "text/plain": [
       "<Figure size 432x288 with 1 Axes>"
      ]
     },
     "metadata": {
      "needs_background": "light"
     },
     "output_type": "display_data"
    }
   ],
   "source": [
    "plt.bar(df.sluggerpos, df.mean_runs, 0.9)\n",
    "plt.show()"
   ]
  },
  {
   "cell_type": "code",
   "execution_count": null,
   "metadata": {},
   "outputs": [],
   "source": []
  }
 ],
 "metadata": {
  "kernelspec": {
   "display_name": "Python 3",
   "language": "python",
   "name": "python3"
  },
  "language_info": {
   "codemirror_mode": {
    "name": "ipython",
    "version": 3
   },
   "file_extension": ".py",
   "mimetype": "text/x-python",
   "name": "python",
   "nbconvert_exporter": "python",
   "pygments_lexer": "ipython3",
   "version": "3.7.3"
  }
 },
 "nbformat": 4,
 "nbformat_minor": 4
}

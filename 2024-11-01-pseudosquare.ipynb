{
 "cells": [
  {
   "cell_type": "markdown",
   "id": "751aa8fe-e719-4e51-9a6c-4edd30c00bf3",
   "metadata": {},
   "source": [
    "# 2024-11-01 Area of a Pseudosquare"
   ]
  },
  {
   "cell_type": "markdown",
   "id": "0dc9bc9f-7726-4a89-a28d-82a25274d922",
   "metadata": {},
   "source": [
    "The problem is here: https://thefiddler.substack.com/p/whats-the-area-of-a-pseudo-square?utm_source=post-email-title&publication_id=1745947&post_id=150995442"
   ]
  },
  {
   "cell_type": "markdown",
   "id": "ba02a8f4-d786-4e3a-bdf6-634be1c993cb",
   "metadata": {},
   "source": [
    "If we define the radius of the larger sector as $R$, and $\\theta$ as its\n",
    "angle (in radians), we have these relationships:\n",
    "\n",
    "(1) $\\theta R = 1$\n",
    "\n",
    "(2) $2 \\pi (R - 1) = 1 + (R - 1) \\theta$ \n",
    "\n",
    "Note that $(R - 1)$ is the radius of the smaller sector. Equation 1 is due to the relationship between the angle $\\theta$ of the larger sector and the arc of length 1 along its curved edge. Equation 2 is the equation for the circumference of the circle circumscribing the smaller obtuse sector. \n",
    "\n",
    "Substituting one into the other, we get:\n",
    "\n",
    "$\\theta = \\frac{1}{R}$\n",
    "\n",
    "$2 \\pi (R - 1) = 1 + (R+1) \\theta$\n",
    "\n",
    "$2 \\pi R - 2 \\pi = 1 + \\frac{R+1}{R}$\n",
    "\n",
    "$2 \\pi R - 2 \\pi = 1 + 1 - \\frac{1}{R}$\n",
    "\n",
    "$2 \\pi R - 2 \\pi - 2 = - \\frac{1}{R}$\n",
    "\n",
    "$2 \\pi R^2 - (2 \\pi + 2) R = -1$\n",
    "\n",
    "$2 \\pi R^2 - (2 \\pi + 2) R + 1 = 0$\n",
    "\n",
    "Then by using the quadratic formula, we get:\n",
    "\n",
    "$R = \\frac{\\sqrt{\\pi ^ 2 + 1} + \\pi + 1}{2 \\pi}$"
   ]
  },
  {
   "cell_type": "code",
   "execution_count": 12,
   "id": "1f23f3ba-385e-4786-be3f-db1ca06b2370",
   "metadata": {},
   "outputs": [
    {
     "name": "stdout",
     "output_type": "stream",
     "text": [
      "R = 1.1838741974656837\n",
      "theta = 0.8446843441141781\n"
     ]
    }
   ],
   "source": [
    "import math\n",
    "\n",
    "R = (math.sqrt(math.pi ** 2 + 1) + math.pi + 1) / (2 * math.pi)\n",
    "r = R - 1\n",
    "theta = 1 / R\n",
    "print(f\"R = {R}\")\n",
    "print(f\"theta = {theta}\")"
   ]
  },
  {
   "cell_type": "code",
   "execution_count": null,
   "id": "22e9a0a7-ac15-49b3-bca8-4cbfdc1c4850",
   "metadata": {},
   "outputs": [],
   "source": []
  }
 ],
 "metadata": {
  "kernelspec": {
   "display_name": "Python 3 (ipykernel)",
   "language": "python",
   "name": "python3"
  },
  "language_info": {
   "codemirror_mode": {
    "name": "ipython",
    "version": 3
   },
   "file_extension": ".py",
   "mimetype": "text/x-python",
   "name": "python",
   "nbconvert_exporter": "python",
   "pygments_lexer": "ipython3",
   "version": "3.12.2"
  }
 },
 "nbformat": 4,
 "nbformat_minor": 5
}
